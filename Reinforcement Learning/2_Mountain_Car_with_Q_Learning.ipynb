{
  "nbformat": 4,
  "nbformat_minor": 0,
  "metadata": {
    "colab": {
      "provenance": [],
      "gpuType": "T4"
    },
    "kernelspec": {
      "name": "python3",
      "display_name": "Python 3"
    },
    "language_info": {
      "name": "python"
    },
    "accelerator": "GPU"
  },
  "cells": [
    {
      "cell_type": "code",
      "source": [
        "import numpy as np\n",
        "import gym\n",
        "import matplotlib.pyplot as plt\n",
        "from collections import defaultdict"
      ],
      "metadata": {
        "id": "oUEvDTI_8npB"
      },
      "execution_count": 1,
      "outputs": []
    },
    {
      "cell_type": "code",
      "source": [
        "# Initialize the MountainCar-v0 environment with the new step API and render_mode='human'\n",
        "env = gym.make('MountainCar-v0', render_mode='human', new_step_api=True)"
      ],
      "metadata": {
        "id": "nO0fzbbF8s_a"
      },
      "execution_count": 2,
      "outputs": []
    },
    {
      "cell_type": "code",
      "source": [
        "# Define the Q-learning parameters\n",
        "n_actions = env.action_space.n\n",
        "n_states = (10, 10)  # Coarser discretization of the state space"
      ],
      "metadata": {
        "id": "G4JrfPO08s9U"
      },
      "execution_count": 3,
      "outputs": []
    },
    {
      "cell_type": "code",
      "source": [
        "# Q-table initialization\n",
        "Q = defaultdict(lambda: np.zeros(n_actions))"
      ],
      "metadata": {
        "id": "uF5ei_1o8zYG"
      },
      "execution_count": 4,
      "outputs": []
    },
    {
      "cell_type": "code",
      "source": [
        "# Parameters\n",
        "alpha = 0.2        # Learning rate (increased)\n",
        "gamma = 0.99       # Discount factor\n",
        "epsilon = 1.0      # Exploration rate\n",
        "epsilon_decay = 0.98  # Faster decay\n",
        "epsilon_min = 0.01\n",
        "n_episodes = 100   # Reduce the number of episodes for faster testing\n",
        "max_steps = 200    # Maximum number of steps per episode"
      ],
      "metadata": {
        "id": "5xBDrIng8s6T"
      },
      "execution_count": 5,
      "outputs": []
    },
    {
      "cell_type": "code",
      "source": [
        "def discretize_state(state):\n",
        "    \"\"\"Discretize the continuous state space.\"\"\"\n",
        "    state = (state - env.observation_space.low) / (env.observation_space.high - env.observation_space.low)\n",
        "    state = (state * np.array(n_states)).astype(int)\n",
        "    return tuple(state)"
      ],
      "metadata": {
        "id": "pui_FMKw81Eg"
      },
      "execution_count": 6,
      "outputs": []
    },
    {
      "cell_type": "code",
      "source": [
        "def q_learning():\n",
        "    \"\"\"Q-Learning algorithm.\"\"\"\n",
        "    global epsilon  # Declare epsilon as global to modify its value\n",
        "    rewards = []\n",
        "\n",
        "    for episode in range(n_episodes):\n",
        "        state = discretize_state(env.reset())\n",
        "        total_reward = 0\n",
        "\n",
        "        for _ in range(max_steps):\n",
        "            # Choose action with epsilon-greedy policy\n",
        "            if np.random.rand() < epsilon:\n",
        "                action = env.action_space.sample()\n",
        "            else:\n",
        "                action = np.argmax(Q[state])\n",
        "\n",
        "            next_state, reward, terminated, truncated, _ = env.step(action)\n",
        "            done = terminated or truncated\n",
        "            next_state = discretize_state(next_state)\n",
        "\n",
        "            # Q-learning update\n",
        "            best_next_action = np.argmax(Q[next_state])\n",
        "            td_target = reward + gamma * Q[next_state][best_next_action]\n",
        "            td_error = td_target - Q[state][action]\n",
        "            Q[state][action] += alpha * td_error\n",
        "\n",
        "            state = next_state\n",
        "            total_reward += reward\n",
        "\n",
        "            if done:\n",
        "                break\n",
        "\n",
        "        # Decay epsilon\n",
        "        epsilon = max(epsilon_min, epsilon * epsilon_decay)\n",
        "        rewards.append(total_reward)\n",
        "\n",
        "    return rewards"
      ],
      "metadata": {
        "id": "tTKpL0pe85Hr"
      },
      "execution_count": 7,
      "outputs": []
    },
    {
      "cell_type": "code",
      "source": [
        "def plot_rewards(rewards):\n",
        "    \"\"\"Plot the rewards over episodes.\"\"\"\n",
        "    plt.plot(rewards)\n",
        "    plt.xlabel('Episode')\n",
        "    plt.ylabel('Total Reward')\n",
        "    plt.title('Total Reward per Episode')\n",
        "    plt.show()"
      ],
      "metadata": {
        "id": "PIyyzqOu87P8"
      },
      "execution_count": 8,
      "outputs": []
    },
    {
      "cell_type": "code",
      "source": [
        "if __name__ == \"__main__\":\n",
        "    rewards = q_learning()\n",
        "    plot_rewards(rewards)\n",
        "\n",
        "    # Test the trained agent\n",
        "    state = discretize_state(env.reset())\n",
        "    total_reward = 0\n",
        "    for _ in range(max_steps):\n",
        "        action = np.argmax(Q[state])\n",
        "        next_state, reward, terminated, truncated, _ = env.step(action)\n",
        "        done = terminated or truncated\n",
        "        next_state = discretize_state(next_state)\n",
        "        state = next_state\n",
        "        total_reward += reward\n",
        "        if done:\n",
        "            break\n",
        "    print(f\"Total reward in test run: {total_reward}\")\n",
        "    env.close()"
      ],
      "metadata": {
        "id": "SUlymmOWoe6l",
        "colab": {
          "base_uri": "https://localhost:8080/",
          "height": 544
        },
        "outputId": "35f323af-6d50-42b6-fe38-f5cc4b6d8288"
      },
      "execution_count": 9,
      "outputs": [
        {
          "output_type": "stream",
          "name": "stderr",
          "text": [
            "/usr/local/lib/python3.10/dist-packages/gym/utils/passive_env_checker.py:241: DeprecationWarning: `np.bool8` is a deprecated alias for `np.bool_`.  (Deprecated NumPy 1.24)\n",
            "  if not isinstance(terminated, (bool, np.bool8)):\n"
          ]
        },
        {
          "output_type": "display_data",
          "data": {
            "text/plain": [
              "<Figure size 640x480 with 1 Axes>"
            ],
            "image/png": "[encoded data removed]"
          },
          "metadata": {}
        },
        {
          "output_type": "stream",
          "name": "stdout",
          "text": [
            "Total reward in test run: -200.0\n"
          ]
        }
      ]
    },
    {
      "cell_type": "code",
      "source": [],
      "metadata": {
        "id": "5VdcgMnTrDs5"
      },
      "execution_count": null,
      "outputs": []
    }
  ]
}