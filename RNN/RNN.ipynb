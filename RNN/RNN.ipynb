{
 "cells": [
  {
   "cell_type": "code",
   "execution_count": 468,
   "id": "7ec2797a-b0f2-4303-8b46-45d203525bc3",
   "metadata": {},
   "outputs": [],
   "source": [
    "# import necessary libraries\n",
    "import pandas as pd\n",
    "from nltk.corpus import stopwords\n",
    "from nltk.tokenize import word_tokenize\n",
    "from tensorflow.keras.preprocessing.text import Tokenizer\n",
    "from keras.preprocessing.sequence import pad_sequences\n",
    "from keras.models import Sequential\n",
    "from keras.layers import Embedding, SimpleRNN, Dense, Dropout, Input"
   ]
  },
  {
   "cell_type": "markdown",
   "id": "e493c4d6-a2ad-4fdf-ba1c-0b9ec8cd09c4",
   "metadata": {},
   "source": [
    "# Load the Dataset:"
   ]
  },
  {
   "cell_type": "code",
   "execution_count": 470,
   "id": "6742aac0-43c0-4414-8089-d8bee77a1ee5",
   "metadata": {},
   "outputs": [],
   "source": [
    "# read the data set\n",
    "df = pd.read_csv('spam.csv', encoding='ISO-8859-1') #ISO-8859-1 (also known as latin1)"
   ]
  },
  {
   "cell_type": "code",
   "execution_count": 471,
   "id": "b784f11b-9eff-443d-a173-5a73ee3965a5",
   "metadata": {},
   "outputs": [
    {
     "data": {
      "text/html": [
       "<div>\n",
       "<style scoped>\n",
       "    .dataframe tbody tr th:only-of-type {\n",
       "        vertical-align: middle;\n",
       "    }\n",
       "\n",
       "    .dataframe tbody tr th {\n",
       "        vertical-align: top;\n",
       "    }\n",
       "\n",
       "    .dataframe thead th {\n",
       "        text-align: right;\n",
       "    }\n",
       "</style>\n",
       "<table border=\"1\" class=\"dataframe\">\n",
       "  <thead>\n",
       "    <tr style=\"text-align: right;\">\n",
       "      <th></th>\n",
       "      <th>class</th>\n",
       "      <th>message</th>\n",
       "    </tr>\n",
       "  </thead>\n",
       "  <tbody>\n",
       "    <tr>\n",
       "      <th>0</th>\n",
       "      <td>ham</td>\n",
       "      <td>Go until jurong point, crazy.. Available only ...</td>\n",
       "    </tr>\n",
       "    <tr>\n",
       "      <th>1</th>\n",
       "      <td>ham</td>\n",
       "      <td>Ok lar... Joking wif u oni...</td>\n",
       "    </tr>\n",
       "    <tr>\n",
       "      <th>2</th>\n",
       "      <td>spam</td>\n",
       "      <td>Free entry in 2 a wkly comp to win FA Cup fina...</td>\n",
       "    </tr>\n",
       "    <tr>\n",
       "      <th>3</th>\n",
       "      <td>ham</td>\n",
       "      <td>U dun say so early hor... U c already then say...</td>\n",
       "    </tr>\n",
       "    <tr>\n",
       "      <th>4</th>\n",
       "      <td>ham</td>\n",
       "      <td>Nah I don't think he goes to usf, he lives aro...</td>\n",
       "    </tr>\n",
       "    <tr>\n",
       "      <th>...</th>\n",
       "      <td>...</td>\n",
       "      <td>...</td>\n",
       "    </tr>\n",
       "    <tr>\n",
       "      <th>5567</th>\n",
       "      <td>spam</td>\n",
       "      <td>This is the 2nd time we have tried 2 contact u...</td>\n",
       "    </tr>\n",
       "    <tr>\n",
       "      <th>5568</th>\n",
       "      <td>ham</td>\n",
       "      <td>Will Ì_ b going to esplanade fr home?</td>\n",
       "    </tr>\n",
       "    <tr>\n",
       "      <th>5569</th>\n",
       "      <td>ham</td>\n",
       "      <td>Pity, * was in mood for that. So...any other s...</td>\n",
       "    </tr>\n",
       "    <tr>\n",
       "      <th>5570</th>\n",
       "      <td>ham</td>\n",
       "      <td>The guy did some bitching but I acted like i'd...</td>\n",
       "    </tr>\n",
       "    <tr>\n",
       "      <th>5571</th>\n",
       "      <td>ham</td>\n",
       "      <td>Rofl. Its true to its name</td>\n",
       "    </tr>\n",
       "  </tbody>\n",
       "</table>\n",
       "<p>5572 rows × 2 columns</p>\n",
       "</div>"
      ],
      "text/plain": [
       "     class                                            message\n",
       "0      ham  Go until jurong point, crazy.. Available only ...\n",
       "1      ham                      Ok lar... Joking wif u oni...\n",
       "2     spam  Free entry in 2 a wkly comp to win FA Cup fina...\n",
       "3      ham  U dun say so early hor... U c already then say...\n",
       "4      ham  Nah I don't think he goes to usf, he lives aro...\n",
       "...    ...                                                ...\n",
       "5567  spam  This is the 2nd time we have tried 2 contact u...\n",
       "5568   ham              Will Ì_ b going to esplanade fr home?\n",
       "5569   ham  Pity, * was in mood for that. So...any other s...\n",
       "5570   ham  The guy did some bitching but I acted like i'd...\n",
       "5571   ham                         Rofl. Its true to its name\n",
       "\n",
       "[5572 rows x 2 columns]"
      ]
     },
     "execution_count": 471,
     "metadata": {},
     "output_type": "execute_result"
    }
   ],
   "source": [
    "df"
   ]
  },
  {
   "cell_type": "markdown",
   "id": "f0fff698-58e5-4ffa-981d-bccc312d8c60",
   "metadata": {},
   "source": [
    "# Text Preprocessing:"
   ]
  },
  {
   "cell_type": "code",
   "execution_count": 473,
   "id": "b070796d-301e-4e8b-b1bc-dea6e1be36cf",
   "metadata": {},
   "outputs": [],
   "source": [
    "# Define stop words\n",
    "stop_words = set(stopwords.words('english'))"
   ]
  },
  {
   "cell_type": "code",
   "execution_count": 474,
   "id": "a8959ba9-cdcd-43aa-8f67-7f28e82d8e64",
   "metadata": {},
   "outputs": [],
   "source": [
    "# user defined function to preprocess text. Convert to lower case, Word tokenize and and remove stopwords and join\n",
    "def preprocess_text(text):\n",
    "    # Tokenize and remove stop words\n",
    "    tokens = word_tokenize(text.lower())\n",
    "    filtered_tokens = [word for word in tokens if word not in stop_words]\n",
    "    return ' '.join(filtered_tokens)"
   ]
  },
  {
   "cell_type": "code",
   "execution_count": 475,
   "id": "eaa79603-c906-4b31-8633-579bde0fe80a",
   "metadata": {},
   "outputs": [],
   "source": [
    "# Apply preprocessing\n",
    "df['message'] = df['message'].apply(preprocess_text)"
   ]
  },
  {
   "cell_type": "code",
   "execution_count": 476,
   "id": "520f333b-c328-4160-b69f-cf624d565f8d",
   "metadata": {},
   "outputs": [],
   "source": [
    "# Tokenize the text\n",
    "tokenizer = Tokenizer()\n",
    "tokenizer.fit_on_texts(df['message'])\n",
    "sequences = tokenizer.texts_to_sequences(df['message'])"
   ]
  },
  {
   "cell_type": "code",
   "execution_count": 477,
   "id": "55b7e5f4-aca1-4f63-8f9f-519b165ef9a6",
   "metadata": {},
   "outputs": [],
   "source": [
    "# Pad sequences\n",
    "max_sequence_length = max(len(seq) for seq in sequences)\n",
    "X = pad_sequences(sequences, maxlen=max_sequence_length)"
   ]
  },
  {
   "cell_type": "code",
   "execution_count": 478,
   "id": "2c767616-3152-485a-8736-ef1f0c8ff0ef",
   "metadata": {},
   "outputs": [],
   "source": [
    "# Encode labels\n",
    "y = df['class'].map({'ham': 0, 'spam': 1}).values"
   ]
  },
  {
   "cell_type": "markdown",
   "id": "77f8fc0b-85f6-41ab-82d5-16c8f5bb243d",
   "metadata": {},
   "source": [
    "# Split the Dataset"
   ]
  },
  {
   "cell_type": "code",
   "execution_count": 480,
   "id": "5bf15334-9afb-4745-aa9e-a340ea4bd4cf",
   "metadata": {},
   "outputs": [],
   "source": [
    "from sklearn.model_selection import train_test_split\n",
    "\n",
    "# Split the dataset\n",
    "X_train, X_test, y_train, y_test = train_test_split(X, y, test_size=0.2, random_state=42)"
   ]
  },
  {
   "cell_type": "markdown",
   "id": "1302b2d0-908a-4cee-9cbf-8b5c442ee5c7",
   "metadata": {},
   "source": [
    "# Train Your RNN Model"
   ]
  },
  {
   "cell_type": "code",
   "execution_count": 482,
   "id": "888b668e-007b-410b-b94b-e18eb1ec69a8",
   "metadata": {},
   "outputs": [],
   "source": [
    "# Define the RNN model with Input layer\n",
    "model = Sequential()\n",
    "model.add(Input(shape=(max_sequence_length,))) # Define the input shape\n",
    "model.add(Embedding(input_dim=len(tokenizer.word_index) + 1, output_dim=50))\n",
    "model.add(SimpleRNN(64, return_sequences=True))\n",
    "model.add(Dropout(0.5))\n",
    "model.add(SimpleRNN(64))\n",
    "model.add(Dropout(0.5))\n",
    "model.add(Dense(1, activation='sigmoid'))"
   ]
  },
  {
   "cell_type": "code",
   "execution_count": 483,
   "id": "cfd4c066-8cd4-4d1e-ae40-32ded5ef1021",
   "metadata": {},
   "outputs": [],
   "source": [
    "# Compile the model\n",
    "model.compile(optimizer='adam', loss='binary_crossentropy', metrics=['accuracy'])"
   ]
  },
  {
   "cell_type": "code",
   "execution_count": 484,
   "id": "90e43823-f8eb-4098-a082-ff039ad70370",
   "metadata": {},
   "outputs": [
    {
     "name": "stdout",
     "output_type": "stream",
     "text": [
      "Epoch 1/5\n",
      "\u001b[1m56/56\u001b[0m \u001b[32m━━━━━━━━━━━━━━━━━━━━\u001b[0m\u001b[37m\u001b[0m \u001b[1m12s\u001b[0m 94ms/step - accuracy: 0.8860 - loss: 0.3130 - val_accuracy: 0.9742 - val_loss: 0.0905\n",
      "Epoch 2/5\n",
      "\u001b[1m56/56\u001b[0m \u001b[32m━━━━━━━━━━━━━━━━━━━━\u001b[0m\u001b[37m\u001b[0m \u001b[1m5s\u001b[0m 85ms/step - accuracy: 0.9862 - loss: 0.0615 - val_accuracy: 0.9798 - val_loss: 0.0690\n",
      "Epoch 3/5\n",
      "\u001b[1m56/56\u001b[0m \u001b[32m━━━━━━━━━━━━━━━━━━━━\u001b[0m\u001b[37m\u001b[0m \u001b[1m5s\u001b[0m 92ms/step - accuracy: 0.9941 - loss: 0.0283 - val_accuracy: 0.9798 - val_loss: 0.0790\n",
      "Epoch 4/5\n",
      "\u001b[1m56/56\u001b[0m \u001b[32m━━━━━━━━━━━━━━━━━━━━\u001b[0m\u001b[37m\u001b[0m \u001b[1m5s\u001b[0m 81ms/step - accuracy: 0.9960 - loss: 0.0115 - val_accuracy: 0.9787 - val_loss: 0.0887\n",
      "Epoch 5/5\n",
      "\u001b[1m56/56\u001b[0m \u001b[32m━━━━━━━━━━━━━━━━━━━━\u001b[0m\u001b[37m\u001b[0m \u001b[1m5s\u001b[0m 74ms/step - accuracy: 0.9996 - loss: 0.0029 - val_accuracy: 0.9787 - val_loss: 0.0956\n"
     ]
    }
   ],
   "source": [
    "# Train the model\n",
    "history = model.fit(X_train, y_train, epochs=5, batch_size=64, validation_split=0.2)"
   ]
  },
  {
   "cell_type": "markdown",
   "id": "77af6c57-c49e-438c-8391-af54f5ecd8df",
   "metadata": {},
   "source": [
    "# Monitor the Training Process"
   ]
  },
  {
   "cell_type": "code",
   "execution_count": 486,
   "id": "898be18d-19b7-47c5-b953-11fe5f5b7fdf",
   "metadata": {},
   "outputs": [
    {
     "data": {
      "image/png": "[encoded data removed]",
      "text/plain": [
       "<Figure size 640x480 with 1 Axes>"
      ]
     },
     "metadata": {},
     "output_type": "display_data"
    },
    {
     "data": {
      "image/png": "[encoded data removed]",
      "text/plain": [
       "<Figure size 640x480 with 1 Axes>"
      ]
     },
     "metadata": {},
     "output_type": "display_data"
    }
   ],
   "source": [
    "import matplotlib.pyplot as plt\n",
    "\n",
    "# Plot training & validation accuracy values\n",
    "plt.plot(history.history['accuracy'])\n",
    "plt.plot(history.history['val_accuracy'])\n",
    "plt.title('Model accuracy')\n",
    "plt.xlabel('Epoch')\n",
    "plt.ylabel('Accuracy')\n",
    "plt.legend(['Train', 'Validation'], loc='upper left')\n",
    "plt.show()\n",
    "\n",
    "# Plot training & validation loss values\n",
    "plt.plot(history.history['loss'])\n",
    "plt.plot(history.history['val_loss'])\n",
    "plt.title('Model loss')\n",
    "plt.xlabel('Epoch')\n",
    "plt.ylabel('Loss')\n",
    "plt.legend(['Train', 'Validation'], loc='upper left')\n",
    "plt.show()"
   ]
  },
  {
   "cell_type": "markdown",
   "id": "00cbfd0c-3570-4813-a2cd-3594107d1248",
   "metadata": {},
   "source": [
    "# Evaluate the Trained Model"
   ]
  },
  {
   "cell_type": "code",
   "execution_count": 488,
   "id": "431678f4-f6ef-4e2c-9102-bfb3a9fd52f7",
   "metadata": {},
   "outputs": [
    {
     "name": "stdout",
     "output_type": "stream",
     "text": [
      "\u001b[1m35/35\u001b[0m \u001b[32m━━━━━━━━━━━━━━━━━━━━\u001b[0m\u001b[37m\u001b[0m \u001b[1m2s\u001b[0m 29ms/step\n",
      "              precision    recall  f1-score   support\n",
      "\n",
      "           0       0.98      1.00      0.99       965\n",
      "           1       0.98      0.87      0.92       150\n",
      "\n",
      "    accuracy                           0.98      1115\n",
      "   macro avg       0.98      0.94      0.96      1115\n",
      "weighted avg       0.98      0.98      0.98      1115\n",
      "\n"
     ]
    }
   ],
   "source": [
    "from sklearn.metrics import classification_report\n",
    "\n",
    "# Evaluate the model\n",
    "y_pred = (model.predict(X_test) > 0.5).astype(\"int32\")\n",
    "print(classification_report(y_test, y_pred))"
   ]
  },
  {
   "cell_type": "markdown",
   "id": "3d7a787c-9cd0-48fc-80c5-f1dd25a093fb",
   "metadata": {},
   "source": [
    "# Analyze the Performance"
   ]
  },
  {
   "cell_type": "code",
   "execution_count": 490,
   "id": "a12100b1-d8df-46df-9ba1-298a4b34bf82",
   "metadata": {},
   "outputs": [],
   "source": [
    "# By looking into classification report and training plot model is working fine. Because precision, recall and f1-score is above 90%\n",
    "# training and validation accuracy is 99% and 98% almost equal as well as loss is negligible"
   ]
  },
  {
   "cell_type": "markdown",
   "id": "e9e1ae8a-eaec-4003-81ad-dea1fe5f4246",
   "metadata": {},
   "source": [
    "# Discuss Strengths and Weaknesses of RNNs"
   ]
  },
  {
   "cell_type": "markdown",
   "id": "2e2598ec-13d2-4653-8556-55a25fb0768d",
   "metadata": {},
   "source": [
    "## Strengths:"
   ]
  },
  {
   "cell_type": "markdown",
   "id": "95de9cfc-1e31-49f6-a1a8-9f4874351bac",
   "metadata": {},
   "source": [
    "##### RNNs are good for sequential data and can capture temporal dependencies in text.\n",
    "##### They can learn context and patterns from previous tokens in sequences."
   ]
  },
  {
   "cell_type": "markdown",
   "id": "2b781782-867a-4014-a921-f6717ebf6439",
   "metadata": {},
   "source": [
    "## Weaknesses:"
   ]
  },
  {
   "cell_type": "markdown",
   "id": "acd7864c-77fa-4720-9c0f-e5e0bbaf0fa8",
   "metadata": {},
   "source": [
    "##### RNNs can suffer from vanishing/exploding gradient problems.\n",
    "##### They can be computationally intensive for long sequences."
   ]
  },
  {
   "cell_type": "code",
   "execution_count": null,
   "id": "96fc5f2c-f9d4-4466-b70c-3ec4400882dc",
   "metadata": {},
   "outputs": [],
   "source": []
  }
 ],
 "metadata": {
  "kernelspec": {
   "display_name": "Python 3 (ipykernel)",
   "language": "python",
   "name": "python3"
  },
  "language_info": {
   "codemirror_mode": {
    "name": "ipython",
    "version": 3
   },
   "file_extension": ".py",
   "mimetype": "text/x-python",
   "name": "python",
   "nbconvert_exporter": "python",
   "pygments_lexer": "ipython3",
   "version": "3.11.7"
  }
 },
 "nbformat": 4,
 "nbformat_minor": 5
}
